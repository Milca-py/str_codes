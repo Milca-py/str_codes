{
 "cells": [
  {
   "cell_type": "markdown",
   "metadata": {},
   "source": []
  },
  {
   "cell_type": "code",
   "execution_count": 1,
   "metadata": {},
   "outputs": [],
   "source": [
    "import numpy as np\n",
    "import matplotlib.pyplot as plt"
   ]
  },
  {
   "cell_type": "code",
   "execution_count": 3,
   "metadata": {},
   "outputs": [],
   "source": [
    "def Newmark(ug, u0, up0=0, Tn=0.1, ξ=0.05,  Δt=0.01, ϒ=1/2, β=1/6):\n",
    "    m = 1\n",
    "    p = -m*ug\n",
    "\n",
    "    k = m*(2*np.pi/Tn)**2\n",
    "    Wn = 2*np.pi/Tn\n",
    "    C = 2*ξ*Wn*m\n",
    "\n",
    "    u = np.zeros(len(p))\n",
    "    u[0] = u0\n",
    "    up = np.zeros(len(p))\n",
    "    up[0] = up0\n",
    "    upp = np.zeros(len(p))\n",
    "    upp[0] = (p[0] - C*up[0] - k*u[0])/m\n",
    "\n",
    "    a1 = m/(β*Δt**2) + ϒ*C/(β*Δt)\n",
    "    a2 = m/(β*Δt) + (ϒ/β - 1)*C\n",
    "    a3 = (1/(2*β) - 1)*m + Δt*C*(ϒ/(2*β)-1)\n",
    "\n",
    "    kt = k + a1\n",
    "\n",
    "    for i in range(len(p)-1):\n",
    "        pti_1 = p[i+1] + a1*u[i] + a2*up[i] + a3*upp[i]\n",
    "        u[i+1] = pti_1/kt\n",
    "        up[i+1] = ϒ/(β*Δt)*(u[i+1] - u[i]) + (1 - ϒ/β) * \\\n",
    "            up[i] + Δt*(1 - ϒ/(2*β))*upp[i]\n",
    "        upp[i+1] = (u[i+1] - u[i])/(β*Δt**2) - up[i] / \\\n",
    "            (β*Δt) - (1/(2*β) - 1)*upp[i]\n",
    "    return u, up, upp\n",
    "\n",
    "\n",
    "def maxi(x):\n",
    "    return max(abs(x.min()), abs(x.max())).round(2)"
   ]
  },
  {
   "cell_type": "code",
   "execution_count": null,
   "metadata": {},
   "outputs": [],
   "source": []
  }
 ],
 "metadata": {
  "kernelspec": {
   "display_name": "Python 3",
   "language": "python",
   "name": "python3"
  },
  "language_info": {
   "codemirror_mode": {
    "name": "ipython",
    "version": 3
   },
   "file_extension": ".py",
   "mimetype": "text/x-python",
   "name": "python",
   "nbconvert_exporter": "python",
   "pygments_lexer": "ipython3",
   "version": "3.9.13"
  }
 },
 "nbformat": 4,
 "nbformat_minor": 2
}
